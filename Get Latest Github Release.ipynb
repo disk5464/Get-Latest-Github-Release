{
 "cells": [
  {
   "cell_type": "code",
   "execution_count": null,
   "id": "91c87f0b",
   "metadata": {},
   "outputs": [
    {
     "name": "stdout",
     "output_type": "stream",
     "text": [
      "Collecting beautifulsoup4\n",
      "  Downloading beautifulsoup4-4.13.4-py3-none-any.whl.metadata (3.8 kB)\n",
      "Collecting soupsieve>1.2 (from beautifulsoup4)\n",
      "  Downloading soupsieve-2.7-py3-none-any.whl.metadata (4.6 kB)\n",
      "Requirement already satisfied: typing-extensions>=4.0.0 in c:\\users\\nimaurer.admin\\appdata\\local\\programs\\python\\python310\\lib\\site-packages (from beautifulsoup4) (4.12.2)\n",
      "Downloading beautifulsoup4-4.13.4-py3-none-any.whl (187 kB)\n",
      "Downloading soupsieve-2.7-py3-none-any.whl (36 kB)\n",
      "Installing collected packages: soupsieve, beautifulsoup4\n",
      "Successfully installed beautifulsoup4-4.13.4 soupsieve-2.7\n",
      "Note: you may need to restart the kernel to use updated packages.\n"
     ]
    },
    {
     "name": "stderr",
     "output_type": "stream",
     "text": [
      "\n",
      "[notice] A new release of pip is available: 24.3.1 -> 25.1.1\n",
      "[notice] To update, run: python.exe -m pip install --upgrade pip\n"
     ]
    }
   ],
   "source": [
    "pip install beautifulsoup4\n",
    "pip install packaging "
   ]
  },
  {
   "cell_type": "code",
   "execution_count": 32,
   "id": "182acc47",
   "metadata": {},
   "outputs": [],
   "source": [
    "import requests\n",
    "from bs4 import BeautifulSoup\n",
    "\n",
    "#response = requests.get('https://github.com/chrisbenincasa/tunarr/releases')\n",
    "response = requests.get('https://github.com/tensorflow/tensorflow/releases')\n",
    "soup = BeautifulSoup(response.content, 'html.parser')\n",
    "#print(soup.prettify())\n"
   ]
  },
  {
   "cell_type": "code",
   "execution_count": 3,
   "id": "cdf57746",
   "metadata": {},
   "outputs": [
    {
     "name": "stdout",
     "output_type": "stream",
     "text": [
      "[<h2 class=\"sr-only\">Navigation Menu</h2>, <h2 class=\"Overlay-description\" id=\"custom-scopes-dialog-description\">Use saved searches to filter your results more quickly</h2>, <h2 class=\"sr-only\" id=\"hd-da5c9af2\">v0.19.3</h2>, <h2><a href=\"https://github.com/chrisbenincasa/tunarr/compare/v0.19.2...v0.19.3\">0.19.3</a> (2025-05-12)</h2>, <h2 class=\"sr-only\" id=\"hd-91f446a0\">v0.19.2</h2>, <h2><a href=\"https://github.com/chrisbenincasa/tunarr/compare/v0.19.1...v0.19.2\">0.19.2</a> (2025-05-12)</h2>, <h2 class=\"sr-only\" id=\"hd-376a2eb3\">v0.19.1</h2>, <h2><a href=\"https://github.com/chrisbenincasa/tunarr/compare/v0.19.0...v0.19.1\">0.19.1</a> (2025-05-09)</h2>, <h2 class=\"sr-only\" id=\"hd-a92cba23\">v0.19.0</h2>, <h2><a href=\"https://github.com/chrisbenincasa/tunarr/compare/v0.18.20...v0.19.0\">0.19.0</a> (2025-05-05)</h2>, <h2 class=\"sr-only\" id=\"hd-bb67485f\">v0.18.20</h2>, <h2><a href=\"https://github.com/chrisbenincasa/tunarr/compare/v0.18.19...v0.18.20\">0.18.20</a> (2025-04-17)</h2>, <h2 class=\"sr-only\" id=\"hd-66689a01\">v0.18.19</h2>, <h2><a href=\"https://github.com/chrisbenincasa/tunarr/compare/v0.18.18...v0.18.19\">0.18.19</a> (2025-04-14)</h2>, <h2 class=\"sr-only\" id=\"hd-d0c1d1d7\">v0.18.18</h2>, <h2><a href=\"https://github.com/chrisbenincasa/tunarr/compare/v0.18.17...v0.18.18\">0.18.18</a> (2025-04-14)</h2>, <h2 class=\"sr-only\" id=\"hd-494c57a6\">v0.18.17</h2>, <h2><a href=\"https://github.com/chrisbenincasa/tunarr/compare/v0.18.16...v0.18.17\">0.18.17</a> (2025-04-10)</h2>, <h2 class=\"sr-only\" id=\"hd-1ee28eaa\">v0.18.16</h2>, <h2><a href=\"https://github.com/chrisbenincasa/tunarr/compare/v0.18.15...v0.18.16\">0.18.16</a> (2025-03-27)</h2>, <h2 class=\"sr-only\" id=\"hd-e874064d\">v0.18.15</h2>, <h2><a href=\"https://github.com/chrisbenincasa/tunarr/compare/v0.18.14...v0.18.15\">0.18.15</a> (2025-03-11)</h2>, <h2 class=\"sr-only\">Footer</h2>]\n"
     ]
    }
   ],
   "source": [
    "s = soup.find('div', class_='col-md-9')\n",
    "content = soup.find_all('h2')\n",
    "print(content)\n"
   ]
  },
  {
   "cell_type": "code",
   "execution_count": 6,
   "id": "ac546e27",
   "metadata": {},
   "outputs": [
    {
     "name": "stdout",
     "output_type": "stream",
     "text": [
      "<h2 class=\"sr-only\" id=\"hd-da5c9af2\">v0.19.3</h2>\n",
      "<h2 class=\"sr-only\" id=\"hd-91f446a0\">v0.19.2</h2>\n",
      "<h2 class=\"sr-only\" id=\"hd-376a2eb3\">v0.19.1</h2>\n",
      "<h2 class=\"sr-only\" id=\"hd-a92cba23\">v0.19.0</h2>\n",
      "<h2 class=\"sr-only\" id=\"hd-bb67485f\">v0.18.20</h2>\n",
      "<h2 class=\"sr-only\" id=\"hd-66689a01\">v0.18.19</h2>\n",
      "<h2 class=\"sr-only\" id=\"hd-d0c1d1d7\">v0.18.18</h2>\n",
      "<h2 class=\"sr-only\" id=\"hd-494c57a6\">v0.18.17</h2>\n",
      "<h2 class=\"sr-only\" id=\"hd-1ee28eaa\">v0.18.16</h2>\n",
      "<h2 class=\"sr-only\" id=\"hd-e874064d\">v0.18.15</h2>\n"
     ]
    }
   ],
   "source": [
    "allversions = []\n",
    "\n",
    "for i in content:\n",
    "    if \"v0.\" in i.text:\n",
    "        allversions.append(i.text)\n",
    "        print(i) "
   ]
  },
  {
   "cell_type": "code",
   "execution_count": 5,
   "id": "380b8db2",
   "metadata": {},
   "outputs": [
    {
     "name": "stdout",
     "output_type": "stream",
     "text": [
      "v0.19.3\n"
     ]
    }
   ],
   "source": [
    "allversions.sort(reverse=True)\n",
    "print(allversions[0])"
   ]
  },
  {
   "cell_type": "code",
   "execution_count": null,
   "id": "aae8e334",
   "metadata": {},
   "outputs": [],
   "source": [
    "#Changing from the text of the relase to the release number itself"
   ]
  },
  {
   "cell_type": "code",
   "execution_count": 44,
   "id": "b68c9242",
   "metadata": {},
   "outputs": [
    {
     "name": "stdout",
     "output_type": "stream",
     "text": [
      "v2.19.0\n"
     ]
    }
   ],
   "source": [
    "allversions = []\n",
    "s = soup.find_all(class_='mr-3 mr-md-0 d-flex pt-1 pt-sm-0')\n",
    "content = soup.find_all(\"span\",class_='ml-1 wb-break-all')\n",
    "#print(content)\n",
    "\n",
    "for i in content:\n",
    "    if (\"v\" in i.text) and (\"rc\" not in i.text):\n",
    "        allversions.append( (i.text).strip() )\n",
    "        #print(i.text)\n",
    "\n",
    "allversions.sort(reverse=True)    \n",
    "print(allversions[0])\n"
   ]
  },
  {
   "cell_type": "code",
   "execution_count": 42,
   "id": "51209402",
   "metadata": {},
   "outputs": [
    {
     "name": "stdout",
     "output_type": "stream",
     "text": [
      "['v2.19.0-rc0', 'v2.19.0', 'v2.18.1', 'v2.18.0-rc2', 'v2.18.0-rc1', 'v2.18.0-rc0', 'v2.18.0', 'v2.17.1', 'v2.17.0-rc1', 'v2.17.0']\n",
      "v2.19.0-rc0\n"
     ]
    }
   ],
   "source": [
    "import packaging \n",
    "from packaging.version import parse as parse_version\n",
    "\n",
    "sortedVerisoin = sorted(allversions, reverse=True)\n",
    "print(allversions)\n",
    "print(sortedVerisoin[0])\n"
   ]
  }
 ],
 "metadata": {
  "kernelspec": {
   "display_name": "Python 3",
   "language": "python",
   "name": "python3"
  },
  "language_info": {
   "codemirror_mode": {
    "name": "ipython",
    "version": 3
   },
   "file_extension": ".py",
   "mimetype": "text/x-python",
   "name": "python",
   "nbconvert_exporter": "python",
   "pygments_lexer": "ipython3",
   "version": "3.10.5"
  }
 },
 "nbformat": 4,
 "nbformat_minor": 5
}
